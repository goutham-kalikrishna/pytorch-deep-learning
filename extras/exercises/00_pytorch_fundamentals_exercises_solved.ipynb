{
  "nbformat": 4,
  "nbformat_minor": 0,
  "metadata": {
    "colab": {
      "name": "00_pytorch_fundamentals_exercises.ipynb",
      "provenance": [],
      "gpuType": "T4",
      "include_colab_link": true
    },
    "kernelspec": {
      "name": "python3",
      "display_name": "Python 3"
    },
    "language_info": {
      "name": "python"
    },
    "accelerator": "GPU"
  },
  "cells": [
    {
      "cell_type": "markdown",
      "metadata": {
        "id": "view-in-github",
        "colab_type": "text"
      },
      "source": [
        "<a href=\"https://colab.research.google.com/github/goutham-kalikrishna/pytorch-deep-learning/blob/main/extras/exercises/00_pytorch_fundamentals_exercises_solved.ipynb\" target=\"_parent\"><img src=\"https://colab.research.google.com/assets/colab-badge.svg\" alt=\"Open In Colab\"/></a>"
      ]
    },
    {
      "cell_type": "markdown",
      "source": [
        "# 00. PyTorch Fundamentals Exercises\n",
        "\n",
        "### 1. Documentation reading\n",
        "\n",
        "A big part of deep learning (and learning to code in general) is getting familiar with the documentation of a certain framework you're using. We'll be using the PyTorch documentation a lot throughout the rest of this course. So I'd recommend spending 10-minutes reading the following (it's okay if you don't get some things for now, the focus is not yet full understanding, it's awareness):\n",
        "  * The documentation on [`torch.Tensor`](https://pytorch.org/docs/stable/tensors.html#torch-tensor).\n",
        "  * The documentation on [`torch.cuda`](https://pytorch.org/docs/master/notes/cuda.html#cuda-semantics).\n",
        "\n"
      ],
      "metadata": {
        "id": "AzDBM_v4iMe7"
      }
    },
    {
      "cell_type": "code",
      "source": [
        "# No code solution (reading)"
      ],
      "metadata": {
        "id": "bGD0oD8Kizak"
      },
      "execution_count": null,
      "outputs": []
    },
    {
      "cell_type": "markdown",
      "source": [
        "### 2. Create a random tensor with shape `(7, 7)`.\n"
      ],
      "metadata": {
        "id": "__iXqqz-ioUJ"
      }
    },
    {
      "cell_type": "code",
      "source": [
        "# Import torch\n",
        "\n",
        "import torch\n",
        "\n",
        "# Create random tensor\n",
        "\n",
        "RandomTensor_A = torch.rand(7,7)\n",
        "\n",
        "RandomTensor_A"
      ],
      "metadata": {
        "id": "6pUq9Dc8i2L7",
        "outputId": "ff357de6-d642-400c-f15a-7c57f058a890",
        "colab": {
          "base_uri": "https://localhost:8080/"
        }
      },
      "execution_count": 3,
      "outputs": [
        {
          "output_type": "execute_result",
          "data": {
            "text/plain": [
              "tensor([[0.6647, 0.7860, 0.4633, 0.9770, 0.8137, 0.4683, 0.0263],\n",
              "        [0.4025, 0.7585, 0.9530, 0.0198, 0.7895, 0.3012, 0.9129],\n",
              "        [0.5364, 0.7659, 0.9352, 0.6359, 0.2880, 0.1230, 0.4761],\n",
              "        [0.4325, 0.3837, 0.2128, 0.6214, 0.6516, 0.1346, 0.4339],\n",
              "        [0.1722, 0.7852, 0.0598, 0.7044, 0.1788, 0.8271, 0.9384],\n",
              "        [0.8076, 0.9503, 0.3448, 0.7433, 0.3350, 0.2728, 0.0766],\n",
              "        [0.4788, 0.2336, 0.4573, 0.7358, 0.2557, 0.3009, 0.4492]])"
            ]
          },
          "metadata": {},
          "execution_count": 3
        }
      ]
    },
    {
      "cell_type": "markdown",
      "source": [
        "### 3. Perform a matrix multiplication on the tensor from 2 with another random tensor with shape `(1, 7)` (hint: you may have to transpose the second tensor)."
      ],
      "metadata": {
        "id": "9-XxvRLfiqkR"
      }
    },
    {
      "cell_type": "code",
      "source": [
        "# Create another random tensor\n",
        "\n",
        "RandomTensor_B = torch.rand(1, 7)\n",
        "\n",
        "# Perform matrix multiplication\n",
        "\n",
        "RandomTensor_Matmul_A = torch.matmul(RandomTensor_A, RandomTensor_B.T)\n",
        "print(RandomTensor_Matmul_A)\n",
        "\n",
        "RandomTensor_Matmul_B = torch.matmul(RandomTensor_A, RandomTensor_B.reshape(7, 1))\n",
        "print(RandomTensor_Matmul_B)\n",
        "\n",
        "RandomTensor_Matmul_C = torch.matmul(RandomTensor_A, RandomTensor_B.view(7, 1))\n",
        "print(RandomTensor_Matmul_C)\n",
        "\n",
        "RandomTensor_Matmul_D = torch.matmul(RandomTensor_A, torch.permute(RandomTensor_B, (1, 0)))\n",
        "print(RandomTensor_Matmul_D)\n"
      ],
      "metadata": {
        "id": "NcLqR0Sbi_vT",
        "outputId": "c9bb5097-6237-47d4-e5c0-71cdc1eb8e88",
        "colab": {
          "base_uri": "https://localhost:8080/"
        }
      },
      "execution_count": 4,
      "outputs": [
        {
          "output_type": "stream",
          "name": "stdout",
          "text": [
            "tensor([[2.8144],\n",
            "        [2.6560],\n",
            "        [2.4588],\n",
            "        [2.0849],\n",
            "        [2.2113],\n",
            "        [2.3218],\n",
            "        [1.8654]])\n",
            "tensor([[2.8144],\n",
            "        [2.6560],\n",
            "        [2.4588],\n",
            "        [2.0849],\n",
            "        [2.2113],\n",
            "        [2.3218],\n",
            "        [1.8654]])\n",
            "tensor([[2.8144],\n",
            "        [2.6560],\n",
            "        [2.4588],\n",
            "        [2.0849],\n",
            "        [2.2113],\n",
            "        [2.3218],\n",
            "        [1.8654]])\n",
            "tensor([[2.8144],\n",
            "        [2.6560],\n",
            "        [2.4588],\n",
            "        [2.0849],\n",
            "        [2.2113],\n",
            "        [2.3218],\n",
            "        [1.8654]])\n"
          ]
        }
      ]
    },
    {
      "cell_type": "markdown",
      "source": [
        "### 4. Set the random seed to `0` and do 2 & 3 over again.\n",
        "\n",
        "The output should be:\n",
        "```\n",
        "(tensor([[1.8542],\n",
        "         [1.9611],\n",
        "         [2.2884],\n",
        "         [3.0481],\n",
        "         [1.7067],\n",
        "         [2.5290],\n",
        "         [1.7989]]), torch.Size([7, 1]))\n",
        "```"
      ],
      "metadata": {
        "id": "eiutdKUFiryU"
      }
    },
    {
      "cell_type": "code",
      "source": [
        "# Set manual seed\n",
        "\n",
        "RANDOM_SEED = 0\n",
        "torch.manual_seed(RANDOM_SEED)\n",
        "\n",
        "# Create two random tensors\n",
        "\n",
        "RandomTensor_A = torch.rand(7, 7)\n",
        "RandomTensor_B = torch.rand(1, 7)\n",
        "\n",
        "# Matrix multiply tensors\n",
        "\n",
        "RandomTensor_Matmul_A = torch.matmul(RandomTensor_A, RandomTensor_B.T)\n",
        "RandomTensor_Matmul_A, RandomTensor_Matmul_A.size()"
      ],
      "metadata": {
        "id": "D-lOWI_1jRMm",
        "outputId": "16d9593c-cb73-4ae5-dcf5-1a7aa3a9fcff",
        "colab": {
          "base_uri": "https://localhost:8080/"
        }
      },
      "execution_count": 8,
      "outputs": [
        {
          "output_type": "execute_result",
          "data": {
            "text/plain": [
              "(tensor([[1.8542],\n",
              "         [1.9611],\n",
              "         [2.2884],\n",
              "         [3.0481],\n",
              "         [1.7067],\n",
              "         [2.5290],\n",
              "         [1.7989]]),\n",
              " torch.Size([7, 1]))"
            ]
          },
          "metadata": {},
          "execution_count": 8
        }
      ]
    },
    {
      "cell_type": "markdown",
      "source": [
        "### 5. Speaking of random seeds, we saw how to set it with `torch.manual_seed()` but is there a GPU equivalent? (hint: you'll need to look into the documentation for `torch.cuda` for this one)\n",
        "  * If there is, set the GPU random seed to `1234`."
      ],
      "metadata": {
        "id": "ezY6ks9Cis37"
      }
    },
    {
      "cell_type": "code",
      "source": [
        "# Set random seed on the GPU\n",
        "\n",
        "torch.cuda.manual_seed(1234)"
      ],
      "metadata": {
        "id": "_LKWcfSTjp00"
      },
      "execution_count": 30,
      "outputs": []
    },
    {
      "cell_type": "markdown",
      "source": [
        "\n",
        "### 6. Create two random tensors of shape `(2, 3)` and send them both to the GPU (you'll need access to a GPU for this). Set `torch.manual_seed(1234)` when creating the tensors (this doesn't have to be the GPU random seed). The output should be something like:\n",
        "\n",
        "```\n",
        "Device: cuda\n",
        "(tensor([[0.0290, 0.4019, 0.2598],\n",
        "         [0.3666, 0.0583, 0.7006]], device='cuda:0'),\n",
        " tensor([[0.0518, 0.4681, 0.6738],\n",
        "         [0.3315, 0.7837, 0.5631]], device='cuda:0'))\n",
        "```"
      ],
      "metadata": {
        "id": "Ir9qSaj6it4n"
      }
    },
    {
      "cell_type": "code",
      "source": [
        "import torch\n",
        "\n",
        "# Set random seed\n",
        "torch.manual_seed(1234)\n",
        "\n",
        "# Check for access to GPU\n",
        "\n",
        "device = 'cuda' if torch.cuda.is_available() else 'cpu'\n",
        "\n",
        "# Create two random tensors on GPU\n",
        "\n",
        "RandomTensor_A = torch.rand(2, 3) # RandomTensor_A = torch.rand(2, 3, device=device)\n",
        "RandomTensor_B = torch.rand(2, 3)\n",
        "\n",
        "RandomTensor_A_GPU = RandomTensor_A.to(device)\n",
        "RandomTensor_B_GPU = RandomTensor_B.to(device)\n",
        "\n",
        "RandomTensor_A_GPU, RandomTensor_B_GPU"
      ],
      "metadata": {
        "id": "azXExiFZj5nm",
        "outputId": "11424858-2af2-4195-8ee1-1334dd9b5f7e",
        "colab": {
          "base_uri": "https://localhost:8080/"
        }
      },
      "execution_count": 36,
      "outputs": [
        {
          "output_type": "execute_result",
          "data": {
            "text/plain": [
              "(tensor([[0.0290, 0.4019, 0.2598],\n",
              "         [0.3666, 0.0583, 0.7006]], device='cuda:0'),\n",
              " tensor([[0.0518, 0.4681, 0.6738],\n",
              "         [0.3315, 0.7837, 0.5631]], device='cuda:0'))"
            ]
          },
          "metadata": {},
          "execution_count": 36
        }
      ]
    },
    {
      "cell_type": "markdown",
      "source": [
        "\n",
        "### 7. Perform a matrix multiplication on the tensors you created in 6 (again, you may have to adjust the shapes of one of the tensors).\n",
        "\n",
        "The output should look like:\n",
        "```\n",
        "(tensor([[0.3647, 0.4709],\n",
        "         [0.5184, 0.5617]], device='cuda:0'), torch.Size([2, 2]))\n",
        "```"
      ],
      "metadata": {
        "id": "5TlAxeiSiu1y"
      }
    },
    {
      "cell_type": "code",
      "source": [
        "# Perform matmul on tensor_A and tensor_B\n",
        "\n",
        "RandomTensor_Matmul = torch.matmul(RandomTensor_A_GPU, RandomTensor_B_GPU.T)\n",
        "RandomTensor_Matmul"
      ],
      "metadata": {
        "id": "fAeG7ox0lHEO",
        "outputId": "3a1f075e-a419-47eb-ddf9-33ce088d97cf",
        "colab": {
          "base_uri": "https://localhost:8080/"
        }
      },
      "execution_count": 37,
      "outputs": [
        {
          "output_type": "execute_result",
          "data": {
            "text/plain": [
              "tensor([[0.3647, 0.4709],\n",
              "        [0.5184, 0.5617]], device='cuda:0')"
            ]
          },
          "metadata": {},
          "execution_count": 37
        }
      ]
    },
    {
      "cell_type": "markdown",
      "source": [
        "### 8. Find the maximum and minimum values of the output of 7."
      ],
      "metadata": {
        "id": "G7qfa5CSivwg"
      }
    },
    {
      "cell_type": "code",
      "source": [
        "# Find max\n",
        "MAX = RandomTensor_Matmul.max() # torch.max(RandomTensor_Matmul)\n",
        "\n",
        "# Find min\n",
        "MIN = RandomTensor_Matmul.min()\n",
        "\n",
        "MAX, MIN"
      ],
      "metadata": {
        "id": "Fu8_3mZpllOd",
        "outputId": "74514a81-97f6-4a94-f449-a688feeb81d0",
        "colab": {
          "base_uri": "https://localhost:8080/"
        }
      },
      "execution_count": 41,
      "outputs": [
        {
          "output_type": "execute_result",
          "data": {
            "text/plain": [
              "(tensor(0.5617, device='cuda:0'), tensor(0.3647, device='cuda:0'))"
            ]
          },
          "metadata": {},
          "execution_count": 41
        }
      ]
    },
    {
      "cell_type": "markdown",
      "source": [
        "### 9. Find the maximum and minimum index values of the output of 7."
      ],
      "metadata": {
        "id": "wrTj5FgNiw47"
      }
    },
    {
      "cell_type": "code",
      "source": [
        "# Find arg max\n",
        "MAX_ARG = RandomTensor_Matmul.argmax() # torch.argmax(RandomTensor_Matmul)\n",
        "\n",
        "# Find arg min\n",
        "MIN_ARG = RandomTensor_Matmul.argmin()\n",
        "\n",
        "MAX_ARG, MIN_ARG"
      ],
      "metadata": {
        "id": "CCEKt4K2lsfQ",
        "outputId": "120d0f67-e547-4e85-a644-bd4662676b69",
        "colab": {
          "base_uri": "https://localhost:8080/"
        }
      },
      "execution_count": 42,
      "outputs": [
        {
          "output_type": "execute_result",
          "data": {
            "text/plain": [
              "(tensor(3, device='cuda:0'), tensor(0, device='cuda:0'))"
            ]
          },
          "metadata": {},
          "execution_count": 42
        }
      ]
    },
    {
      "cell_type": "markdown",
      "source": [
        "\n",
        "### 10. Make a random tensor with shape `(1, 1, 1, 10)` and then create a new tensor with all the `1` dimensions removed to be left with a tensor of shape `(10)`. Set the seed to `7` when you create it and print out the first tensor and it's shape as well as the second tensor and it's shape.\n",
        "\n",
        "The output should look like:\n",
        "\n",
        "```\n",
        "tensor([[[[0.5349, 0.1988, 0.6592, 0.6569, 0.2328, 0.4251, 0.2071, 0.6297,\n",
        "           0.3653, 0.8513]]]]) torch.Size([1, 1, 1, 10])\n",
        "tensor([0.5349, 0.1988, 0.6592, 0.6569, 0.2328, 0.4251, 0.2071, 0.6297, 0.3653,\n",
        "        0.8513]) torch.Size([10])\n",
        "```"
      ],
      "metadata": {
        "id": "hmeybz4uixy7"
      }
    },
    {
      "cell_type": "code",
      "source": [
        "# Set seed\n",
        "\n",
        "torch.manual_seed(7)\n",
        "\n",
        "# Create random tensor\n",
        "\n",
        "RandomTensor_A = torch.rand(1, 1, 1, 10)\n",
        "\n",
        "# Remove single dimensions\n",
        "RES = RandomTensor_A.squeeze()\n",
        "\n",
        "# Print out tensors and their shapes\n",
        "print(RandomTensor_A, RandomTensor_A.shape)\n",
        "print(RES, RES.shape)"
      ],
      "metadata": {
        "id": "TQ9zbRzVl1jV",
        "outputId": "441bfff7-eb3a-4607-edc9-c435aaf8c744",
        "colab": {
          "base_uri": "https://localhost:8080/"
        }
      },
      "execution_count": 46,
      "outputs": [
        {
          "output_type": "stream",
          "name": "stdout",
          "text": [
            "tensor([[[[0.5349, 0.1988, 0.6592, 0.6569, 0.2328, 0.4251, 0.2071, 0.6297,\n",
            "           0.3653, 0.8513]]]]) torch.Size([1, 1, 1, 10])\n",
            "tensor([0.5349, 0.1988, 0.6592, 0.6569, 0.2328, 0.4251, 0.2071, 0.6297, 0.3653,\n",
            "        0.8513]) torch.Size([10])\n"
          ]
        }
      ]
    },
    {
      "cell_type": "code",
      "source": [],
      "metadata": {
        "id": "Ej7_0zRdc3jz"
      },
      "execution_count": null,
      "outputs": []
    }
  ]
}